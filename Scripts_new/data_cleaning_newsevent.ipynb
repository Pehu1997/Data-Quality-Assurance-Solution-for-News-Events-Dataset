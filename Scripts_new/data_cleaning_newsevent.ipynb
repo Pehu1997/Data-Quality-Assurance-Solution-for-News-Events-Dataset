{
 "cells": [
  {
   "cell_type": "code",
   "execution_count": 1,
   "id": "9d321e13-8970-4fd5-938a-c461aba880c8",
   "metadata": {},
   "outputs": [],
   "source": [
    "import pandas as pd\n",
    "import matplotlib.pyplot as plt\n",
    "import seaborn as sns"
   ]
  },
  {
   "cell_type": "code",
   "execution_count": 2,
   "id": "83eb9bc4-106c-4b67-b440-6e0639be5616",
   "metadata": {},
   "outputs": [
    {
     "data": {
      "text/html": [
       "<div>\n",
       "<style scoped>\n",
       "    .dataframe tbody tr th:only-of-type {\n",
       "        vertical-align: middle;\n",
       "    }\n",
       "\n",
       "    .dataframe tbody tr th {\n",
       "        vertical-align: top;\n",
       "    }\n",
       "\n",
       "    .dataframe thead th {\n",
       "        text-align: right;\n",
       "    }\n",
       "</style>\n",
       "<table border=\"1\" class=\"dataframe\">\n",
       "  <thead>\n",
       "    <tr style=\"text-align: right;\">\n",
       "      <th></th>\n",
       "      <th>event_id</th>\n",
       "      <th>event_type</th>\n",
       "      <th>summary</th>\n",
       "      <th>category</th>\n",
       "      <th>found_at</th>\n",
       "      <th>confidence</th>\n",
       "      <th>article_sentence</th>\n",
       "      <th>human_approved</th>\n",
       "      <th>planning</th>\n",
       "      <th>amount</th>\n",
       "      <th>...</th>\n",
       "      <th>company_id</th>\n",
       "      <th>company_name</th>\n",
       "      <th>company_domain</th>\n",
       "      <th>company_ticker</th>\n",
       "      <th>article_id</th>\n",
       "      <th>article_title</th>\n",
       "      <th>article_url</th>\n",
       "      <th>article_published_at</th>\n",
       "      <th>article_body</th>\n",
       "      <th>article_author</th>\n",
       "    </tr>\n",
       "  </thead>\n",
       "  <tbody>\n",
       "    <tr>\n",
       "      <th>0</th>\n",
       "      <td>0020f127-3470-4cce-8989-1c79f45da217</td>\n",
       "      <td>news_event</td>\n",
       "      <td>Unipart Manufacturing Group recognized as Tran...</td>\n",
       "      <td>recognized_as</td>\n",
       "      <td>2022-07-10 20:00:00</td>\n",
       "      <td>0.8759</td>\n",
       "      <td>In addition to being named the safest organisa...</td>\n",
       "      <td>False</td>\n",
       "      <td>False</td>\n",
       "      <td>NaN</td>\n",
       "      <td>...</td>\n",
       "      <td>000bd323-1bf8-5c7a-9941-e6c155c29d10</td>\n",
       "      <td>Unipart Manufacturing Group</td>\n",
       "      <td>unipart.com</td>\n",
       "      <td>NaN</td>\n",
       "      <td>d172abc1-3755-4cef-946e-7de944806e7d</td>\n",
       "      <td>Unipart ranked the safest organisation in the ...</td>\n",
       "      <td>https://www.unipart.com/unipart-ranked-the-saf...</td>\n",
       "      <td>2022-07-10 20:00:00</td>\n",
       "      <td>Unipart has been further recognised for its un...</td>\n",
       "      <td>NaN</td>\n",
       "    </tr>\n",
       "    <tr>\n",
       "      <th>1</th>\n",
       "      <td>009be1ff-6cfb-4e9f-a415-69baf71f47f3</td>\n",
       "      <td>news_event</td>\n",
       "      <td>OOS International received award two safety aw...</td>\n",
       "      <td>receives_award</td>\n",
       "      <td>2019-12-19 10:45:17</td>\n",
       "      <td>0.9497</td>\n",
       "      <td>Since then OOS International has been an activ...</td>\n",
       "      <td>False</td>\n",
       "      <td>False</td>\n",
       "      <td>NaN</td>\n",
       "      <td>...</td>\n",
       "      <td>000ff896-4292-5b15-9c81-8bf4d76c10d7</td>\n",
       "      <td>OOS International</td>\n",
       "      <td>oosinternational.com</td>\n",
       "      <td>NaN</td>\n",
       "      <td>58c0d5fd-068d-4bab-8ac4-47e19bbdf091</td>\n",
       "      <td>OOS International Award for completing another...</td>\n",
       "      <td>https://www.oosinternational.com/oos-news/awar...</td>\n",
       "      <td>2019-12-19 10:45:17</td>\n",
       "      <td>On behalf of CIM OOS Tiradentes, Mr Jose Marci...</td>\n",
       "      <td>admin</td>\n",
       "    </tr>\n",
       "    <tr>\n",
       "      <th>2</th>\n",
       "      <td>01444124-7375-4f03-8879-eb8200b31504</td>\n",
       "      <td>news_event</td>\n",
       "      <td>NWN Corporation received award Global Winner f...</td>\n",
       "      <td>receives_award</td>\n",
       "      <td>2022-07-12 20:00:00</td>\n",
       "      <td>0.6887</td>\n",
       "      <td>As a result, with nearly 400 nominees from ove...</td>\n",
       "      <td>False</td>\n",
       "      <td>False</td>\n",
       "      <td>NaN</td>\n",
       "      <td>...</td>\n",
       "      <td>000d8a9c-882c-57f2-8b4c-2afc786d0fa1</td>\n",
       "      <td>NWN Corporation</td>\n",
       "      <td>nwncarousel.com</td>\n",
       "      <td>NaN</td>\n",
       "      <td>ef330a38-8624-41c1-8b75-d1b96e7dbd45</td>\n",
       "      <td>Skyrocketing Employee Engagement with Microsof...</td>\n",
       "      <td>https://nwncarousel.com/blog/skyrocketing-empl...</td>\n",
       "      <td>2022-07-12 22:00:00</td>\n",
       "      <td>More than 270 million people rely on Teams for...</td>\n",
       "      <td>NaN</td>\n",
       "    </tr>\n",
       "    <tr>\n",
       "      <th>3</th>\n",
       "      <td>031a304c-29ca-415e-a815-e9c915896540</td>\n",
       "      <td>news_event</td>\n",
       "      <td>Grape Solutions Plc. is developing Mobiliti ap...</td>\n",
       "      <td>is_developing</td>\n",
       "      <td>2023-04-02 22:00:00</td>\n",
       "      <td>0.5987</td>\n",
       "      <td>MVM Mobiliti and Grape Solutions have been wor...</td>\n",
       "      <td>False</td>\n",
       "      <td>False</td>\n",
       "      <td>NaN</td>\n",
       "      <td>...</td>\n",
       "      <td>0008b75f-9d15-54ae-b70a-52301945e397</td>\n",
       "      <td>Grape Solutions Plc.</td>\n",
       "      <td>grape.solutions</td>\n",
       "      <td>NaN</td>\n",
       "      <td>0525807d-6ff6-44a0-9c36-8be3afceba5b</td>\n",
       "      <td>Hungarian development makes electric vehicle c...</td>\n",
       "      <td>https://www.iqfin.net/technology/hungarian-dev...</td>\n",
       "      <td>2023-04-02 22:00:00</td>\n",
       "      <td>Grape Solutions and MVM Mobiliti partner with ...</td>\n",
       "      <td>NaN</td>\n",
       "    </tr>\n",
       "    <tr>\n",
       "      <th>4</th>\n",
       "      <td>037783ca-f3f7-4782-8a81-df3cae1ac936</td>\n",
       "      <td>news_event</td>\n",
       "      <td>NWN Corporation launched two new kits, At-Home...</td>\n",
       "      <td>launches</td>\n",
       "      <td>2022-04-13 01:02:36</td>\n",
       "      <td>0.7180</td>\n",
       "      <td>NWN Carousel, the leading integrated cloud com...</td>\n",
       "      <td>False</td>\n",
       "      <td>False</td>\n",
       "      <td>NaN</td>\n",
       "      <td>...</td>\n",
       "      <td>000d8a9c-882c-57f2-8b4c-2afc786d0fa1</td>\n",
       "      <td>NWN Corporation</td>\n",
       "      <td>nwncarousel.com</td>\n",
       "      <td>NaN</td>\n",
       "      <td>16061c55-111d-496a-9e3e-837dddc3454b</td>\n",
       "      <td>NWN Carousel Launches Two Hybrid Work Solution...</td>\n",
       "      <td>https://www.businesswire.com/news/home/2022041...</td>\n",
       "      <td>2022-04-13 03:00:00</td>\n",
       "      <td>NWN Carousel, the leading integrated cloud com...</td>\n",
       "      <td>NaN</td>\n",
       "    </tr>\n",
       "  </tbody>\n",
       "</table>\n",
       "<p>5 rows × 24 columns</p>\n",
       "</div>"
      ],
      "text/plain": [
       "                               event_id  event_type  \\\n",
       "0  0020f127-3470-4cce-8989-1c79f45da217  news_event   \n",
       "1  009be1ff-6cfb-4e9f-a415-69baf71f47f3  news_event   \n",
       "2  01444124-7375-4f03-8879-eb8200b31504  news_event   \n",
       "3  031a304c-29ca-415e-a815-e9c915896540  news_event   \n",
       "4  037783ca-f3f7-4782-8a81-df3cae1ac936  news_event   \n",
       "\n",
       "                                             summary        category  \\\n",
       "0  Unipart Manufacturing Group recognized as Tran...   recognized_as   \n",
       "1  OOS International received award two safety aw...  receives_award   \n",
       "2  NWN Corporation received award Global Winner f...  receives_award   \n",
       "3  Grape Solutions Plc. is developing Mobiliti ap...   is_developing   \n",
       "4  NWN Corporation launched two new kits, At-Home...        launches   \n",
       "\n",
       "              found_at  confidence  \\\n",
       "0  2022-07-10 20:00:00      0.8759   \n",
       "1  2019-12-19 10:45:17      0.9497   \n",
       "2  2022-07-12 20:00:00      0.6887   \n",
       "3  2023-04-02 22:00:00      0.5987   \n",
       "4  2022-04-13 01:02:36      0.7180   \n",
       "\n",
       "                                    article_sentence  human_approved  \\\n",
       "0  In addition to being named the safest organisa...           False   \n",
       "1  Since then OOS International has been an activ...           False   \n",
       "2  As a result, with nearly 400 nominees from ove...           False   \n",
       "3  MVM Mobiliti and Grape Solutions have been wor...           False   \n",
       "4  NWN Carousel, the leading integrated cloud com...           False   \n",
       "\n",
       "   planning amount  ...                            company_id  \\\n",
       "0     False    NaN  ...  000bd323-1bf8-5c7a-9941-e6c155c29d10   \n",
       "1     False    NaN  ...  000ff896-4292-5b15-9c81-8bf4d76c10d7   \n",
       "2     False    NaN  ...  000d8a9c-882c-57f2-8b4c-2afc786d0fa1   \n",
       "3     False    NaN  ...  0008b75f-9d15-54ae-b70a-52301945e397   \n",
       "4     False    NaN  ...  000d8a9c-882c-57f2-8b4c-2afc786d0fa1   \n",
       "\n",
       "                  company_name        company_domain company_ticker  \\\n",
       "0  Unipart Manufacturing Group           unipart.com            NaN   \n",
       "1            OOS International  oosinternational.com            NaN   \n",
       "2              NWN Corporation       nwncarousel.com            NaN   \n",
       "3         Grape Solutions Plc.       grape.solutions            NaN   \n",
       "4              NWN Corporation       nwncarousel.com            NaN   \n",
       "\n",
       "                             article_id  \\\n",
       "0  d172abc1-3755-4cef-946e-7de944806e7d   \n",
       "1  58c0d5fd-068d-4bab-8ac4-47e19bbdf091   \n",
       "2  ef330a38-8624-41c1-8b75-d1b96e7dbd45   \n",
       "3  0525807d-6ff6-44a0-9c36-8be3afceba5b   \n",
       "4  16061c55-111d-496a-9e3e-837dddc3454b   \n",
       "\n",
       "                                       article_title  \\\n",
       "0  Unipart ranked the safest organisation in the ...   \n",
       "1  OOS International Award for completing another...   \n",
       "2  Skyrocketing Employee Engagement with Microsof...   \n",
       "3  Hungarian development makes electric vehicle c...   \n",
       "4  NWN Carousel Launches Two Hybrid Work Solution...   \n",
       "\n",
       "                                         article_url article_published_at  \\\n",
       "0  https://www.unipart.com/unipart-ranked-the-saf...  2022-07-10 20:00:00   \n",
       "1  https://www.oosinternational.com/oos-news/awar...  2019-12-19 10:45:17   \n",
       "2  https://nwncarousel.com/blog/skyrocketing-empl...  2022-07-12 22:00:00   \n",
       "3  https://www.iqfin.net/technology/hungarian-dev...  2023-04-02 22:00:00   \n",
       "4  https://www.businesswire.com/news/home/2022041...  2022-04-13 03:00:00   \n",
       "\n",
       "                                        article_body article_author  \n",
       "0  Unipart has been further recognised for its un...            NaN  \n",
       "1  On behalf of CIM OOS Tiradentes, Mr Jose Marci...          admin  \n",
       "2  More than 270 million people rely on Teams for...            NaN  \n",
       "3  Grape Solutions and MVM Mobiliti partner with ...            NaN  \n",
       "4  NWN Carousel, the leading integrated cloud com...            NaN  \n",
       "\n",
       "[5 rows x 24 columns]"
      ]
     },
     "execution_count": 2,
     "metadata": {},
     "output_type": "execute_result"
    }
   ],
   "source": [
    "df = pd.read_csv(\"C:\\\\Users\\\\biswa\\\\Downloads\\\\Datasets-2025-08-08\\\\news_events_cleaned.csv\")\n",
    "df.head(5)"
   ]
  },
  {
   "cell_type": "markdown",
   "id": "7db97f62-80bc-4391-8b7e-3f48255e3332",
   "metadata": {},
   "source": [
    "**1. Issue Detection & Remediation:**\n",
    "\n",
    "- Write code/scripts (e.g., Python, SQL, or both) to detect and fix key data quality issues identified during your analysis (e.g., remove duplicates, correct invalid values, standardize formats)."
   ]
  },
  {
   "cell_type": "markdown",
   "id": "04dec5ba-807d-4288-8f8e-8a645f2057e7",
   "metadata": {},
   "source": [
    "### Data Cleaning "
   ]
  },
  {
   "cell_type": "code",
   "execution_count": 3,
   "id": "1f4d093a-5e39-4cee-8877-0f94ddd5c218",
   "metadata": {},
   "outputs": [
    {
     "name": "stdout",
     "output_type": "stream",
     "text": [
      "Number of duplicate rows: 0\n",
      "Data shape after removing duplicates: (612910, 24)\n"
     ]
    }
   ],
   "source": [
    "# remove duplicate if any\n",
    "# Check duplicate rows\n",
    "duplicate_rows = df.duplicated()\n",
    "print(f\"Number of duplicate rows: {duplicate_rows.sum()}\")\n",
    "\n",
    "# Remove duplicates (keeping first occurrence)\n",
    "df = df.drop_duplicates()\n",
    "print(f\"Data shape after removing duplicates: {df.shape}\")\n"
   ]
  },
  {
   "cell_type": "code",
   "execution_count": null,
   "id": "7152e6c1-6de8-4c2a-a22c-661edeed5ad8",
   "metadata": {},
   "outputs": [],
   "source": []
  },
  {
   "cell_type": "code",
   "execution_count": 4,
   "id": "82a932a4-53a0-475b-b2be-2399bc734e0c",
   "metadata": {},
   "outputs": [
    {
     "name": "stdout",
     "output_type": "stream",
     "text": [
      "Dropped columns: ['amount', 'amount_normalized', 'headcount', 'article_author']\n"
     ]
    }
   ],
   "source": [
    "#handeling missing values \n",
    "# Threshold: drop columns with >80% missing\n",
    "threshold = 0.8\n",
    "missing_ratio = df.isnull().mean()\n",
    "cols_to_drop = missing_ratio[missing_ratio > threshold].index\n",
    "df = df.drop(columns=cols_to_drop)\n",
    "print(f\"Dropped columns: {list(cols_to_drop)}\")\n"
   ]
  },
  {
   "cell_type": "code",
   "execution_count": 5,
   "id": "c9dc7be7-4f06-4ff6-976f-7ea1f7a891b8",
   "metadata": {},
   "outputs": [
    {
     "data": {
      "text/plain": [
       "event_id                     0\n",
       "event_type                   0\n",
       "summary                      0\n",
       "category                     0\n",
       "found_at                     0\n",
       "confidence                   8\n",
       "article_sentence             0\n",
       "human_approved               0\n",
       "planning                     0\n",
       "effective_date          369050\n",
       "location                444747\n",
       "company_id               14768\n",
       "company_name             14875\n",
       "company_domain           14768\n",
       "company_ticker          479215\n",
       "article_id                   0\n",
       "article_title               22\n",
       "article_url                  0\n",
       "article_published_at         0\n",
       "article_body                 0\n",
       "dtype: int64"
      ]
     },
     "execution_count": 5,
     "metadata": {},
     "output_type": "execute_result"
    }
   ],
   "source": [
    "df.isnull().sum()"
   ]
  },
  {
   "cell_type": "code",
   "execution_count": 9,
   "id": "e8b5e8d1-f6d0-4ee6-a823-daffbd80c986",
   "metadata": {},
   "outputs": [],
   "source": [
    "#location missing value treatment\n",
    "df['location'] = df['location'].fillna('Unknown')\n",
    "\n"
   ]
  },
  {
   "cell_type": "code",
   "execution_count": 10,
   "id": "2159b8d5-7e0f-4218-aada-9695b7ddecd5",
   "metadata": {},
   "outputs": [],
   "source": [
    "# Drop rows where company_id is missing\n",
    "df = df.dropna(subset=['company_id'])\n",
    "\n",
    "# If company_name or domain is missing, fill with placeholder\n",
    "df['company_name'] = df['company_name'].fillna('Unknown Company')\n",
    "df['company_domain'] = df['company_domain'].fillna('unknown.com')\n"
   ]
  },
  {
   "cell_type": "code",
   "execution_count": 11,
   "id": "a7bdd7d5-6430-420b-8919-4f363d769512",
   "metadata": {},
   "outputs": [],
   "source": [
    "df['company_ticker'] = df['company_ticker'].fillna('Unknown')\n"
   ]
  },
  {
   "cell_type": "code",
   "execution_count": 12,
   "id": "bb2b0fab-b4eb-49e7-83f1-9961ac8c0b31",
   "metadata": {},
   "outputs": [],
   "source": [
    "df['article_title'] = df['article_title'].fillna('Untitled Article')\n"
   ]
  },
  {
   "cell_type": "code",
   "execution_count": 14,
   "id": "5340ebfa-5dbd-472c-9af5-0e386babba91",
   "metadata": {},
   "outputs": [],
   "source": [
    "# Option 1: Fill missing confidence with median\n",
    "df['confidence'] = df['confidence'].fillna(df['confidence'].median())\n",
    "\n"
   ]
  },
  {
   "cell_type": "code",
   "execution_count": null,
   "id": "4a23eb02-1661-4ad2-9f1b-0ce462531c89",
   "metadata": {},
   "outputs": [],
   "source": []
  },
  {
   "cell_type": "code",
   "execution_count": null,
   "id": "30c5b027-16a6-4425-872e-d9e47c12308c",
   "metadata": {},
   "outputs": [],
   "source": []
  },
  {
   "cell_type": "code",
   "execution_count": null,
   "id": "2a2eb65e-31e2-4aec-a0e1-03a7a47f0e3f",
   "metadata": {},
   "outputs": [],
   "source": []
  },
  {
   "cell_type": "code",
   "execution_count": 7,
   "id": "5c4f2c64-78d8-449c-9352-f2293084ae64",
   "metadata": {},
   "outputs": [],
   "source": [
    "#date format standz.\n",
    "# Convert date columns to datetime\n",
    "date_cols = ['found_at', 'effective_date', 'article_published_at']\n",
    "for col in date_cols:\n",
    "    if col in df.columns:\n",
    "        df[col] = pd.to_datetime(df[col], errors='coerce')\n",
    "\n",
    "# Optional: fill missing effective_date with found_at\n",
    "if 'effective_date' in df.columns:\n",
    "    df['effective_date'] = df['effective_date'].fillna(df['found_at'])\n"
   ]
  },
  {
   "cell_type": "code",
   "execution_count": 8,
   "id": "a9086807-327d-4692-9693-65691c4ca1eb",
   "metadata": {},
   "outputs": [],
   "source": [
    "# Strip whitespaces and convert to lowercase\n",
    "df['category'] = df['category'].str.strip().str.lower()\n",
    "\n",
    "# Keep only valid categories\n",
    "valid_categories = [\n",
    "    'recognized_as','receives_award','is_developing','launches','receives_financing',\n",
    "    'hires','partners_with','attends_event','invests_into_assets','promotes',\n",
    "    'expands_offices_to','acquires','sells_assets_to','leaves','signs_new_client',\n",
    "    'closes_offices_in','files_suit_against','invests_into','expands_facilities',\n",
    "    'retires_from','opens_new_location','merges_with','has_issues_with','integrates_with',\n",
    "    'identified_as_competitor_of','goes_public','increases_headcount_by',\n",
    "    'decreases_headcount_by','expands_offices_in'\n",
    "]\n",
    "\n",
    "df = df[df['category'].isin(valid_categories)]\n"
   ]
  },
  {
   "cell_type": "code",
   "execution_count": 16,
   "id": "be058f54-c3c4-4a94-b050-9b9850580316",
   "metadata": {},
   "outputs": [
    {
     "data": {
      "text/plain": [
       "event_id                0\n",
       "event_type              0\n",
       "summary                 0\n",
       "category                0\n",
       "found_at                0\n",
       "confidence              0\n",
       "article_sentence        0\n",
       "human_approved          0\n",
       "planning                0\n",
       "effective_date          0\n",
       "location                0\n",
       "company_id              0\n",
       "company_name            0\n",
       "company_domain          0\n",
       "company_ticker          0\n",
       "article_id              0\n",
       "article_title           0\n",
       "article_url             0\n",
       "article_published_at    0\n",
       "article_body            0\n",
       "dtype: int64"
      ]
     },
     "execution_count": 16,
     "metadata": {},
     "output_type": "execute_result"
    }
   ],
   "source": [
    "df.isnull().sum()"
   ]
  },
  {
   "cell_type": "code",
   "execution_count": 17,
   "id": "6926055e-4a6d-4884-8da6-ea1287ca39e3",
   "metadata": {},
   "outputs": [
    {
     "name": "stdout",
     "output_type": "stream",
     "text": [
      "Saved 598142 records into C:/Users/biswa/Downloads/Datasets-2025-08-08/news_events_final.csv\n"
     ]
    }
   ],
   "source": [
    "# Save as CSV--final\n",
    "output_path = \"C:/Users/biswa/Downloads/Datasets-2025-08-08/news_events_final.csv\"\n",
    "df.to_csv(output_path, index=False)\n",
    "\n",
    "print(f\"Saved {len(df)} records into {output_path}\")"
   ]
  }
 ],
 "metadata": {
  "kernelspec": {
   "display_name": "Python [conda env:base] *",
   "language": "python",
   "name": "conda-base-py"
  },
  "language_info": {
   "codemirror_mode": {
    "name": "ipython",
    "version": 3
   },
   "file_extension": ".py",
   "mimetype": "text/x-python",
   "name": "python",
   "nbconvert_exporter": "python",
   "pygments_lexer": "ipython3",
   "version": "3.13.5"
  }
 },
 "nbformat": 4,
 "nbformat_minor": 5
}
